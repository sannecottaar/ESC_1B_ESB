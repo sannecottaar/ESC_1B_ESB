{
  "cells": [
    {
      "cell_type": "markdown",
      "metadata": {
        "id": "view-in-github",
        "colab_type": "text"
      },
      "source": [
        "<a href=\"https://colab.research.google.com/github/sannecottaar/ESC_1B_ESB/blob/main/body_wave_predictions_for_colab.ipynb\" target=\"_parent\"><img src=\"https://colab.research.google.com/assets/colab-badge.svg\" alt=\"Open In Colab\"/></a>"
      ]
    },
    {
      "cell_type": "markdown",
      "metadata": {
        "id": "ZzHPa0KWu5iL"
      },
      "source": [
        "#######################################################################################\n",
        "### COMPUTES RAY PATHS AND TRAVEL TIMES FOR DIFFERENT BODY PHASES\n",
        "#######################################################################################\n",
        "\n",
        "Note: Some questions for this practical are easier done with interactive plots that allow you to read off values. Unfortunately, this does not work in google colab. Instead you will have to change the limits of the plot in the code to zoom in and read off data points.\n",
        "\n",
        "### Installation for google colab\n",
        "#### Run this code block only once (by pressing shift+enter). You will likely be requested to restart the notebook once after this."
      ]
    },
    {
      "cell_type": "code",
      "source": [
        "# installing python library for observational seismology\n",
        "!pip install obspy"
      ],
      "metadata": {
        "id": "12FGobvK4Na9"
      },
      "execution_count": null,
      "outputs": []
    },
    {
      "cell_type": "markdown",
      "source": [
        "#### Imports\n",
        "\n",
        "Run this code block only once (by pressing shift+enter)"
      ],
      "metadata": {
        "id": "AFuarnZY4Xoo"
      }
    },
    {
      "cell_type": "code",
      "execution_count": null,
      "metadata": {
        "id": "8F7iMC9fu5iN"
      },
      "outputs": [],
      "source": [
        "\n",
        "# numpy is a useful toolkit for scientific computations\n",
        "import numpy as np\n",
        "# matplotlib is a plotting toolkit\n",
        "import matplotlib.pyplot as plt\n",
        "# Obspy is a seismic toolkit\n",
        "import obspy\n",
        "import obspy.taup\n",
        "from collections import OrderedDict\n",
        "from obspy.taup import TauPyModel\n",
        "from obspy.taup import plot_travel_times\n",
        "from obspy.taup import plot_ray_paths"
      ]
    },
    {
      "cell_type": "markdown",
      "metadata": {
        "id": "PiVemRhBu5iO"
      },
      "source": [
        "#######################################################################################\n",
        "## Setting parameters\n",
        "#### Remember to rerun this cell, before rerunning the plotting below!"
      ]
    },
    {
      "cell_type": "code",
      "execution_count": null,
      "metadata": {
        "id": "5hKy8_dou5iO"
      },
      "outputs": [],
      "source": [
        "# Phases to plot, e.g. plotphase =[\"PKJKP\", \"SKKS\"]\n",
        "# See phase naming information below or on the link above.\n",
        "phases_to_plot =[ \"P\", \"PKP\", \"PKIKP\"]\n",
        "\n",
        "# depth of earthquake in km\n",
        "depth_earthquake= 30.\n",
        "\n",
        "\n",
        "# picks a velocity model as a function of depth ('ak135' is a name of such a model)\n",
        "model = TauPyModel(model='ak135')\n",
        "\n"
      ]
    },
    {
      "cell_type": "markdown",
      "metadata": {
        "id": "eM-8czitu5iP"
      },
      "source": [
        "#######################################################################################\n",
        "### This is where the plots gets made, obviously most of the 'work' gets done behind the scenes in plot_ray_paths and plot_travel_times\n",
        "\n",
        "## Plot ray paths\n"
      ]
    },
    {
      "cell_type": "code",
      "execution_count": null,
      "metadata": {
        "id": "wWCD6Lhuu5iP"
      },
      "outputs": [],
      "source": [
        "\n",
        "\n",
        "# Defines array of distances of the receivers to plot ray paths for\n",
        "# Minimum distance in degrees from the earthquake\n",
        "rays_dist_min = 30.\n",
        "rays_dist_max = 330.\n",
        "number_of_rays= 31\n",
        "\n",
        "# plot raypaths\n",
        "plot_ray_paths(source_depth= depth_earthquake, min_degrees= rays_dist_min,\n",
        "               max_degrees = rays_dist_max, npoints = number_of_rays,\n",
        "               plot_type = \"spherical\", legend = True,\n",
        "               phase_list = phases_to_plot, verbose = True, show = False)\n",
        "\n",
        "\n",
        "\n"
      ]
    },
    {
      "cell_type": "markdown",
      "metadata": {
        "id": "YSnbGn5ju5iP"
      },
      "source": [
        "## Plot travel times"
      ]
    },
    {
      "cell_type": "code",
      "execution_count": null,
      "metadata": {
        "id": "9IrfOxVIu5iP"
      },
      "outputs": [],
      "source": [
        "# Defines array of distances to compute travel times at\n",
        "tt_dist_min = 30.\n",
        "tt_dist_max = 180.\n",
        "number_of_tt= 161\n",
        "\n",
        "# plot travel times\n",
        "ax = plot_travel_times(source_depth= depth_earthquake, min_degrees= tt_dist_min,\n",
        "                       max_degrees = tt_dist_max, npoints = number_of_tt,\n",
        "                       legend = True,\n",
        "                       phase_list = phases_to_plot, verbose = True)\n"
      ]
    },
    {
      "cell_type": "code",
      "execution_count": null,
      "metadata": {
        "id": "GFTlP8Eiu5iR"
      },
      "outputs": [],
      "source": []
    },
    {
      "cell_type": "markdown",
      "metadata": {
        "id": "FVteM-qhu5iR"
      },
      "source": [
        "##########################################################################################################\n",
        "#    Appendix: Body wave naming conventions\n",
        "    \n",
        "###    These are specifically the naming conventions for this script (and is copied straight from the TauP manual). Also see the bottom of this page https://docs.obspy.org/packages/obspy.taup.html\n",
        "    \n",
        "#    -----\n",
        "    In traditional 'whole-earth' seismology, there are 3 major interfaces: the free surface, the core-mantle boundary, and the inner-outer core boundary. Phases interacting with the core-mantle boundary and the inner core boundary are easy to describe because the symbol for the wave type changes at the boundary (i.e. the symbol P changes to K within the outer core even though the wave type is the same). Phase multiples for these interfaces and the free surface are also easy to describe because the symbols describe a unique path. The challenge begins with the description of interactions with interfaces within the crust and upper mantle. We have introduced two new symbols to existing nomenclature to provide unique descriptions of potential paths. Phase names are constructed from a sequence of symbols and numbers (with no spaces) that either describe the wave type, the interaction a wave makes with an interface, or the depth to an interface involved in an interaction.\n",
        "    1.\tSymbols that describe wave-type are:\n",
        "    -\tP compressional wave, upgoing or downgoing, in the crust or mantle p strictly upgoing P wave in the crust or mantle\n",
        "    S shear wave, upgoing or downgoing, in the crust or mantle\n",
        "    s strictly upgoing S wave in the crust or mantle\n",
        "    -\tK compressional wave in the outer core\n",
        "    -\tI  compressional wave in the inner core\n",
        "    -\tJ  shear wave in the inner core\n",
        "    \n",
        "    2.\tSymbols that describe interactions with interfaces are:\n",
        "    -\tm interaction with the moho\n",
        "    -  g appended to P or S to represent a ray turning in the crust\n",
        "    -  n appended to P or S to represent a head wave along the moho\n",
        "    -  c topside reflection off the core mantle boundary\n",
        "    -  i topside reflection off the inner core outer core boundary\n",
        "    -  ˆ underside reflection, used primarily for crustal and mantle interfaces\n",
        "    -  v topside reflection, used primarily for crustal and mantle interfaces\n",
        "    -\tdiff appended to P or S to represent a diffracted wave along the core mantle boundary\n",
        "    3.\tThe characters p and s always represent up-going legs. An example is the source to surface leg of the phase pP from a source at depth. P and S can be turning waves, but always indicate downgoing waves leaving the source when they are the first symbol in a phase name. Thus, to get near-source, direct P-wave arrival times, you need to specify two phases p and P or use the “ttimes compatibility phases” described below. However, P may represent a upgoing leg in certain cases. For instance, PcP is allowed since the direction of the phase is unambiguously determined by the symbol c, but would be named Pcp by a purist using our nomenclature.\n",
        "    4.\tWith the ability to have sources at depth, there is a need to specify the difference between a wave that is exclusively downgoing to the receiver from one that turns and is upgoing at the receiver. The suffix ed can be appended to indicate exclusively downgoing. So for a source at 10 km depth and a receiver at 20 km depth at 0 degree distance P does nat have an arrival but Ped does.\n",
        "    5.\tNumbers, except velocities for kmps phases (see 10 below), represent depths at which interactions take place. For example, P410s represents a P-to-S conversion at a discontinuity at 410km depth. Since the S-leg is given by a lower-case symbol and no reflection indicator is included, this represents a P-wave converting to an S-wave when it hits the interface from below. The numbers given need not be the actual depth, the closest depth corresponding to a discontinuity in the model will be used. For example, if the time for P410s is requested in a model where the discontinuity was really located at 406.7 kilometers depth, the time returned would actually be for P406.7s. The code “taup time” would note that this had been done. Obviously, care should be taken to ensure that there are no other discontinuities closer than the one of interest, but this approach allows generic interface names like “410” and “660” to be used without knowing the exact depth in a given model.\n",
        "#    \n",
        "    6.\tIf a number appears between two phase legs, e.g. S410P, it represents a transmitted phase conversion, not a reflection. Thus, S410P would be a transmitted conversion from S to P at 410km depth. Whether the conversion occurs on the down-going side or up-going side is determined by the upper or lower case of the following leg. For instance, the phase S410P propagates down as an S, converts at the 410 to a P, continues down, turns as a P-wave, and propagates back across the 410 and to the surface. S410p on the other hand, propagates down as a S through the 410, turns as an S, hits the 410 from the bottom, converts to a p and then goes up to the surface. In these cases, the case of the phase symbol (P vs. p) is critical because the direction of propagation (upgoing or downgoing) is not unambiguously defined elsewhere in the phase name. The importance is clear when you consider a source depth below 410 compared to above 410. For a source depth greater than 410 km, S410P technically cannot exist while S410p maintains the same path (a receiver side conversion) as it does for a source depth above the 410.\n",
        "    The first letter can be lower case to indicate a conversion from an up-going ray, e.g. p410S is a depth phase from a source at greater than 410 kilometers depth that phase converts at the 410 discontinuity. It is strictly upgoing over its entire path, and hence could also be labeled p410s. p410S is often used to mean a reflection in the literature, but there are too many possible interactions for the phase parser to allow this. If the underside reflection is desired, use the pˆ 410S notation from rule 7.\n",
        "#    \n",
        "    7.\tDue to the two previous rules, P410P and S410S are over specified, but still legal. They are almost equivalent to P and S, respectively, but restrict the path to phases transmitted through (turning below) the 410. This notation is useful to limit arrivals to just those that turn deeper than a discontinuity (thus avoiding travel time curve triplications), even though they have no real interaction with it.\n",
        "#    \n",
        "    8.\tThe characters ˆ and v are new symbols introduced here to represent bottom-side and top-side reflections, respectively. They are followed by a number to represent the approximate depth of the reflection or a letter for standard discontinuities, m, c or i. Reflections from discontinuities besides the core-mantle boundary, c; or inner-core outer-core boundary, i, must use the ˆ and v notation. For instance, in the TauP convention, pˆ 410S is used to describe a near-source underside reflection.\n",
        "    Underside reflections, except at the surface (PP, sS, etc.), core-mantle boundary (PKKP, SKKKS, etc.), or outer-core-inner-core boundary (PKIIKP, SKJJKS, SKIIKS, etc.), must be specified with the ˆ notation. For example, Pˆ 410P and Pˆ mP would both be underside reflections from the 410km discontinuity and the Moho, respectively.\n",
        "    The phase PmP, the traditional name for a top-side reflection from the Moho discontinuity, must change names under our new convention. The new name is PvmP or Pvmp while PmP just describes a P-wave that turns beneath the Moho. The reason the Moho must be handled differently from the core-mantle boundary is that traditional nomenclature did not introduce a phase symbol change at the Moho. Thus, while PcP makes sense since a P-wave in the core would be labeled K, PmP could have several meanings. The m symbol just allows the user to describe phases interaction with the Moho without knowing its exact depth. In all other respects, the ˆ -v nomenclature is maintained.\n",
        "#    \n",
        "    9.\tCurrently, ˆ and v for non-standard discontinuities are allowed only in the crust and mantle. Thus there are no reflections off non-standard discontinuities within the core, (reflections such as PKKP, PKiKP and PKIIKP are still fine). There is no reason in principle to restrict reflections off discontinuities in the core, but until there is interest expressed, these phases will not be added. Also, a naming convention would have to be created since “p is to P” is not the same as “i is to I”.\n",
        "    "
      ]
    },
    {
      "cell_type": "code",
      "execution_count": null,
      "metadata": {
        "id": "PYVw9Jb3u5iS"
      },
      "outputs": [],
      "source": []
    }
  ],
  "metadata": {
    "kernelspec": {
      "display_name": "Python 3 (ipykernel)",
      "language": "python",
      "name": "python3"
    },
    "language_info": {
      "codemirror_mode": {
        "name": "ipython",
        "version": 3
      },
      "file_extension": ".py",
      "mimetype": "text/x-python",
      "name": "python",
      "nbconvert_exporter": "python",
      "pygments_lexer": "ipython3",
      "version": "3.8.12"
    },
    "colab": {
      "provenance": [],
      "include_colab_link": true
    }
  },
  "nbformat": 4,
  "nbformat_minor": 0
}