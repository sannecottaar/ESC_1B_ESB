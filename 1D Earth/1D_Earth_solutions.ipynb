{
  "nbformat": 4,
  "nbformat_minor": 0,
  "metadata": {
    "kernelspec": {
      "display_name": "Python 3",
      "language": "python",
      "name": "python3"
    },
    "language_info": {
      "codemirror_mode": {
        "name": "ipython",
        "version": 3
      },
      "file_extension": ".py",
      "mimetype": "text/x-python",
      "name": "python",
      "nbconvert_exporter": "python",
      "pygments_lexer": "ipython3",
      "version": "3.7.3"
    },
    "colab": {
      "name": "1D_Earth_solutions.ipynb",
      "provenance": []
    }
  },
  "cells": [
    {
      "cell_type": "markdown",
      "metadata": {
        "id": "spV-cvPrYVgB"
      },
      "source": [
        "\n",
        "# ESB Practical: the 1D Earth"
      ]
    },
    {
      "cell_type": "code",
      "metadata": {
        "id": "QHuFtkRlYVgE"
      },
      "source": [
        "## Importing libraries\n",
        "import numpy as np                        # library to deal with arrays\n",
        "import matplotlib.pyplot as plt           # library for general plotting\n",
        "import scipy.integrate as integrate\n",
        "import requests\n",
        "\n",
        "PREM_model = requests.get('https://raw.githubusercontent.com/sannecottaar/ESC_1B_ESB/main/1D%20Earth/PREMQL6.webarchive', stream=True)"
      ],
      "execution_count": 1,
      "outputs": []
    },
    {
      "cell_type": "markdown",
      "metadata": {
        "id": "yIaIUxMNYVgF"
      },
      "source": [
        "### 1. Mass and Moment of Inertia\n",
        "\n",
        "\n",
        "In this first exercise we are going to fit the mass and moment of inertia of the Earth for a two-layer case (i.e. with one value for the density of the core and one for the density of the mantle). In the code below a start is given for two functions that calculate the mass and moment of inertia for this simple Earth, but the equations themselves still need to be implemented.  \n",
        "\n",
        "The mass is given by:\n",
        "$ M = \\frac{4}{3} \\pi [R^3 \\rho_{m} +  r_{c}^3 (\\rho_{c}-\\rho_{m})] $\n",
        "\n",
        "The Moment of Intertia is given by: \n",
        "$I  = \\frac{8}{15} \\pi [(R^5\\rho_{m} + r_{c}^5 (\\rho_{c}-\\rho_{m})] $\n",
        "\n",
        "Where $R$ is the radius of the Earth (6371 km), $r_c$ is the radius of the core (3481 km), $\\rho_c$ is the density of the core, and $\\rho_m$ is the density of the mantle. \n",
        "\n",
        "*a.* Show the above equation for the mass results from $ M = \\int \\rho dV $ when assuming a two-layered sphere with constant densities. \n",
        "\n",
        "<font color = 'blue'>$M = M_c+M_m = \\frac{4}{3} \\pi r_{core}^3 \\rho_{core} +  \\frac{4}{3} \\pi [r_{mantle}^3 -r_{core}^3]\\rho_{mantle} = \\frac{4}{3} \\pi [r_{earth}^3 \\rho_{mantle} +  r_{core}^3 (\\rho_{core}-\\rho_{mantle})]$</font>\n",
        "\n",
        "\n",
        "*Bonus take-home question: Derive the equation for the Moment of Inertia of a two-layered sphere.* <font color = 'blue'>*See bottom of the page.*</font>\n",
        "\n",
        "*b.* Add the equations to the two functions started below. If you have done this correctly the error messages will dissapear. \n",
        "\n",
        "<font color = 'blue'>*See code block below.*</font>\n",
        "\n",
        "Note:\n",
        "- The numpy library offers the value of pi - use np.pi (remember to import the libraries at the top!)\n",
        "- To take a power of a number in python you use **, e.g. $x^y = x**y$\n",
        "- Python cares about indentation. The equation within the function needs to be indented. \n",
        "\n"
      ]
    },
    {
      "cell_type": "code",
      "metadata": {
        "id": "bh0Bfa2EYVgG"
      },
      "source": [
        "def mass_of_Earth(dens_mantle, dens_core, rad_core = 3481.e3, rad_earth =6371.e3):\n",
        "    \"\"\"\n",
        "    implement mass of Earth here, using the four variables \n",
        "    'dens_mantle, dens_core, rad_core, rad_earth'\n",
        "    \"\"\"\n",
        "    mass  = 4./3. * np.pi * ((rad_earth**3 * dens_mantle) + rad_core**3*(dens_core-dens_mantle))\n",
        "    return mass\n",
        "\n",
        "assert(mass_of_Earth(5.5e3, 5.5e3)==5.957638042651645e+24 )\n",
        "\n",
        "def MoI_of_Earth(dens_mantle, dens_core, rad_core = 3481.e3, rad_earth =6371.e3):\n",
        "    \"\"\"\n",
        "    implement moment of intertia of Earth here, using the four variables \n",
        "    'dens_mantle, dens_core, rad_core, rad_earth'\n",
        "    \"\"\"\n",
        "    MoI  = 8./15. * np.pi * ((rad_earth**5 * dens_mantle) + rad_core**5*(dens_core-dens_mantle))\n",
        "    return MoI\n",
        "\n",
        "assert(MoI_of_Earth(5.5e3, 5.5e3)==9.672735574366918e+37 )"
      ],
      "execution_count": null,
      "outputs": []
    },
    {
      "cell_type": "markdown",
      "metadata": {
        "id": "n-Y8zFeHYVgH"
      },
      "source": [
        "Now we can use these functions to fit the mass and moment of inertia. We are taking the radii of the Earth (6371 km) and the core (3481 km) as a given.  We divide the moment of intertia by the mass and the radius squared to obtain the dimensionless moment of inertia factor. \n",
        "\n",
        "*c.* Change the density values for the core and the mantle below to fit the mass and moment of intertia at the same time. What values do you find?\n",
        "\n",
        "<font color = 'blue'>*Values should be close to $4.1 \\times 10^{3}\\ kg m^{-3}$ for the mantle and $12.8 \\times 10^{3}\\ kg m^{-3}$ for the core.*</font>\n",
        "\n",
        "*d.* Show that the mean density of a two-layered planet is given by: \n",
        "\n",
        "$ \\bar{\\rho} = \\left(\\frac{r_c}{R}\\right)^3 (\\rho_c - \\rho_m) + \\rho_m $\n",
        "\n",
        "And compute the mean value for the two-layered Earth constrained in *c.*\n",
        "\n",
        "<font color = 'blue'>$ \\bar{\\rho} = \\frac{M}{V}= \\frac{4/3 \\pi [R^3 \\rho_{m} +  r_{c}^3 (\\rho_{c}-\\rho_{m})]}{ 4/3 \\pi R^3} = \\left(\\frac{r_c}{R}\\right)^3 (\\rho_c - \\rho_m) + \\rho_m  = \\left(\\frac{3481\\times 10^{3}}{6371\\times 10^{3}}\\right)^3(12.8\\times 10^{3}-4.1 \\times 10^{3}) + 4.1 \\times 10^{3} = 5.5 \\times 10^{3} kg m^{-3} $</font>\n"
      ]
    },
    {
      "cell_type": "code",
      "metadata": {
        "id": "Ewff5C1MYVgH",
        "colab": {
          "base_uri": "https://localhost:8080/"
        },
        "outputId": "7c8d8c1f-860d-496f-ec87-4f12211a386c"
      },
      "source": [
        "observed_mass = 5.97e24 #kg\n",
        "observed_MoI = 0.33 #factor MoI/mass\n",
        "\n",
        "density_mantle = 4.1e3 #kg/m^3\n",
        "density_core = 12.75e3 #kg/m^3\n",
        "\n",
        "computed_mass = mass_of_Earth(density_mantle, density_core)\n",
        "\n",
        "computed_MoI = MoI_of_Earth(density_mantle, density_core)/(computed_mass*6371.e3**2)\n",
        "\n",
        "\n",
        "print('Observed mass = ', observed_mass,'kg. Computed mass = ', '{:.3e}'.format(computed_mass) , 'kg.')\n",
        "print('Observed MoI factor = ', observed_MoI,'. Computed MoI factor = ', np.round(computed_MoI,2), '.')"
      ],
      "execution_count": null,
      "outputs": [
        {
          "output_type": "stream",
          "text": [
            "Observed mass =  5.97e+24 kg. Computed mass =  5.969e+24 kg.\n",
            "Observed MoI factor =  0.33 . Computed MoI factor =  0.33 .\n"
          ],
          "name": "stdout"
        }
      ]
    },
    {
      "cell_type": "markdown",
      "metadata": {
        "id": "tPGoSFIPYVgJ"
      },
      "source": [
        "### 2. Pressure and gravity inside the Earth\n",
        "\n",
        "Next we are going to compute the pressure and gravity profiles in the Earth. Lets first read in the full 1D density profile and plot this. You do not have to change anything in this script. \n",
        "\n",
        "*a.* Compare the densities shown here with the average values found for the mantle and core in the last exercise.\n",
        "\n",
        "<font color = 'blue'>*They are comparable. In the two-layer case the density of the mantle is on the low-end of the range observed here, and the density of the core on the high-end, to fit the Moment of Inertia.*</font>\n",
        "\n",
        "*b.* Zoom in on the most shallow layer in this model. How thick is it and what density does it have? What do you think it represents? \n",
        "\n",
        "<font color = 'blue'>*The top layer is several kilometres and has a density of 1000 $kgm^{-3}$. This must represent an ocean. Of course, a 1D model one has to choose to represent either oceanic or continental lithosphere. Oceanic lithosphere is slightly more representative as it covers 60 \\% of the globe.*</font>\n",
        "\n",
        "*c.* What parts of this model do you think are constrained by the Adams-Williamson equation?\n",
        "\n",
        "<font color = 'blue'>*Parts of the model that are in between discontinuities, particularly in the lower mantle, outer core, and inner core show a steady increase in density.*</font>\n",
        "\n",
        "*d.* Identify three phase transitions that occur. Compute the density jumps at these transitions in \\%.\n",
        "\n",
        "<font color = 'blue'>*Phase transitions occur at the 410 and 660 km depth (in this model at 670 km depth) and at the inner-core boundary. Note that the CMB boundary is not a phase transition, but a compositional change.*</font>\n",
        "\n",
        "<font color = 'blue'>*410 density jump is $\\sim 5.2 \\%$*</font>\n",
        "\n",
        "<font color = 'blue'>*660 density jump is $\\sim 9.8 \\%$*</font>\n",
        "\n",
        "<font color = 'blue'>*ICB density jump is $\\sim 5.0 \\%$*</font>\n",
        "\n"
      ]
    },
    {
      "cell_type": "code",
      "metadata": {
        "id": "DAEbpPjvYVgK",
        "colab": {
          "base_uri": "https://localhost:8080/",
          "height": 299
        },
        "outputId": "a9188c8e-e419-4e3b-bb8a-818005f86654"
      },
      "source": [
        "# read in density\n",
        "rad = [] # initialise list for radius\n",
        "dens = [] # initialise list for density\n",
        "\n",
        "#loop through lines in file\n",
        "for line in PREM_model.iter_lines():\n",
        "        # split values in line\n",
        "        val = line.split()\n",
        "        # add first value to radius list as a float\n",
        "        rad.append(float(val[0]))\n",
        "        # add second value to density list as a float\n",
        "        dens.append(float(val[1]))\n",
        "# change lists into arrays\n",
        "rad = np.array(rad)\n",
        "dens = np.array(dens)\n",
        "\n",
        "\n",
        "\n",
        "# plot arrays\n",
        "plt.plot(rad/1.e3,dens)\n",
        "plt.xlabel('radius ($km$)')\n",
        "plt.ylabel('density ($kg/m^3$)')"
      ],
      "execution_count": 3,
      "outputs": [
        {
          "output_type": "execute_result",
          "data": {
            "text/plain": [
              "Text(0, 0.5, 'density ($kg/m^3$)')"
            ]
          },
          "metadata": {
            "tags": []
          },
          "execution_count": 3
        },
        {
          "output_type": "display_data",
          "data": {
            "image/png": "[encoded data removed]",
            "text/plain": [
              "<Figure size 432x288 with 1 Axes>"
            ]
          },
          "metadata": {
            "tags": [],
            "needs_background": "light"
          }
        }
      ]
    },
    {
      "cell_type": "markdown",
      "metadata": {
        "id": "bQbkkKR6YVgL"
      },
      "source": [
        "To obtain the pressure inside the Earth, we first need to obtain the gravitational accelaration as a function of depth. We know the gravity at the centre of the Earth is zero, so we start integrating from there. We also know the gravity at the surface is 9.81, which our integration should end up at!\n",
        "\n",
        "$g(r) = \\frac{GM(r)}{r^2} = \\frac{G\\int_0^r\\rho(r)dV}{r^2} = \\frac{4\\pi G\\int_0^r\\rho(r)r^2 dr}{r^2}$\n",
        "\n",
        "Where \n",
        "- $G = 6.67408\\times 10^{-11}  m^3kg^{-1}s^{-2}$\n",
        "- $M(r)$ = the mass in the sphere up to radius $r$\n",
        " \n",
        "*e.* Confirm the units of this equation match that of acceleration. \n",
        "\n",
        "<font color = 'blue'>$[g]= m^3kg^{-1}s^{-2} \\cdot kg \\cdot m^{-2} = ms^{-2}$</font>\n",
        "\n",
        "*f.* Implement the equation for the gravitational accelareration in the code below. To implement an integral follow:\n",
        "- $Y(x)= \\int_0^xydx$ = integrate.cumtrapz(y,x,initial=0.)\n",
        "\n",
        "<font color = 'blue'>*See code block below.*</font>\n",
        "\n",
        "*g.* Why is the gravitational acceleration almost constant across the mantle (and even slightly increasing towards the core-mantle boundary)? \n",
        "\n",
        "<font color = 'blue'>*The decrease of mass of the sphere beneath a point in the mantle is (more than) counterbalanced by the smaller distance to the centre of the mass. You can see the equation is a gives a balance between the decrease in $M(r)$ in the numerator and $r^2$ in the denominator.*</font>"
      ]
    },
    {
      "cell_type": "code",
      "metadata": {
        "id": "fnm-cuF3YVgN",
        "colab": {
          "base_uri": "https://localhost:8080/",
          "height": 370
        },
        "outputId": "4345e696-0f55-478b-d35e-266e9e428a50"
      },
      "source": [
        "grav = 6.67408e-11 #m^3kg^-1s^-2\n",
        "\n",
        "\n",
        "#### Implement integration here\n",
        "g = grav*4.*np.pi*integrate.cumtrapz(dens*rad*rad, rad, initial = 0.)/rad**2\n",
        "\n",
        "# Assert the integration gives the correct value at the surface\n",
        "print('g at the surface is ', np.round(g[-1],2), '$m/s^2$')\n",
        "assert(np.round(g[-1],2)==9.82)\n",
        "\n",
        "# If you divided g by r^2, there will be a division by zero at the centre. Python will return a 'nan' or 'not-a-number'\n",
        "# in this case. Here we overwrite the value here back to zero\n",
        "g[0]=0\n",
        "\n",
        "\n",
        "# Plot g as a function of radius\n",
        "plt.figure()   \n",
        "plt.plot(rad/1.e3,g)\n",
        "plt.xlabel('radius ($km$)')\n",
        "plt.ylabel('gravity ($m/s^2$)')\n",
        "plt.xlim(0, 6371)"
      ],
      "execution_count": 4,
      "outputs": [
        {
          "output_type": "stream",
          "text": [
            "g at the surface is  9.82 $m/s^2$\n"
          ],
          "name": "stdout"
        },
        {
          "output_type": "stream",
          "text": [
            "/usr/local/lib/python3.6/dist-packages/ipykernel_launcher.py:5: RuntimeWarning: invalid value encountered in true_divide\n",
            "  \"\"\"\n"
          ],
          "name": "stderr"
        },
        {
          "output_type": "execute_result",
          "data": {
            "text/plain": [
              "(0.0, 6371.0)"
            ]
          },
          "metadata": {
            "tags": []
          },
          "execution_count": 4
        },
        {
          "output_type": "display_data",
          "data": {
            "image/png": "[encoded data removed]",
            "text/plain": [
              "<Figure size 432x288 with 1 Axes>"
            ]
          },
          "metadata": {
            "tags": [],
            "needs_background": "light"
          }
        }
      ]
    },
    {
      "cell_type": "markdown",
      "metadata": {
        "id": "vLQBhZYLYVgO"
      },
      "source": [
        "Now, to obtain the pressure inside the Earth, we now want to integrate the gravitational accelerations and densities. We know the pressure at the surfaces (assumed 0 in this case), and can integrate the following function:\n",
        "\\begin{equation}\n",
        "P(z) = \\int_0^z \\rho(z) g(z) dz\n",
        "\\end{equation}\n",
        "\n",
        "*h.* Confirm the equation above results in Pa. \n",
        "\n",
        "<font color = 'blue'>$[P]=kgm^{-3}\\cdot ms^{-2} \\cdot m = kgm^{-1}s^{-2} = Nm^{-2} = Pa$</font>\n",
        "\n",
        "*i.* Implement the equation above in the code below, again using integrate.cumtrapz (the error message needs to dissapear). \n",
        "\n",
        "<font color = 'blue'>*See code block below.*</font>\n",
        "\n",
        "*j.* What is the pressure at the core-mantle boundary? How about the centre of the Earth?\n",
        "\n",
        "<font color = 'blue'>*Pressure at the core-mantle boundary is 135 GPa and at the centre of the Earth 364 GPa. This means the pressure almost triples across the core, even though the gravitational constant decreases.*</font>\n",
        "\n",
        "*k.* Why does the gradient of the pressure go to zero at the centre of the Earth?\n",
        "\n",
        "<font color = 'blue'>*Because the gravitational acceleration goes to zero. It should also be true because of symmetry around the centre of the Earth.*</font>"
      ]
    },
    {
      "cell_type": "code",
      "metadata": {
        "id": "ABRCDHv_YVgP",
        "colab": {
          "base_uri": "https://localhost:8080/",
          "height": 313
        },
        "outputId": "8f468954-3c84-439b-f448-1f16d6057cc3"
      },
      "source": [
        "# Let us first swap the arrays to be as a function of depth.\n",
        "depth = 6371.e3-rad[::-1]\n",
        "dens_with_z = dens[::-1]\n",
        "g_with_z = g[::-1]\n",
        "\n",
        "#### Implement integrations here\n",
        "P = integrate.cumtrapz(g_with_z*dens_with_z, depth, initial = 0) \n",
        "print(np.round(np.max(P))) \n",
        "assert(np.round(np.max(P),3) == 364101176139.805)\n",
        "\n",
        "plt.figure()\n",
        "plt.plot(rad/1.e3,P[::-1]/1.e9)\n",
        "plt.xlabel('radius (km)')\n",
        "plt.ylabel('pressure (GPa)')\n",
        "plt.xlim(0, 6371)"
      ],
      "execution_count": 5,
      "outputs": [
        {
          "output_type": "stream",
          "text": [
            "364101176140.0\n"
          ],
          "name": "stdout"
        },
        {
          "output_type": "execute_result",
          "data": {
            "text/plain": [
              "(0.0, 6371.0)"
            ]
          },
          "metadata": {
            "tags": []
          },
          "execution_count": 5
        },
        {
          "output_type": "display_data",
          "data": {
            "image/png": "[encoded data removed]",
            "text/plain": [
              "<Figure size 432x288 with 1 Axes>"
            ]
          },
          "metadata": {
            "tags": [],
            "needs_background": "light"
          }
        }
      ]
    },
    {
      "cell_type": "markdown",
      "metadata": {
        "id": "Q70TJaQdYVhe"
      },
      "source": [
        "#### Deriving the equation for the moment of inertia of a two-layered Earth"
      ]
    },
    {
      "cell_type": "markdown",
      "metadata": {
        "id": "JA-Ydi00YVhf"
      },
      "source": [
        "First, lets derive the equation for the moment of intertia of a sphere: \n",
        "    <img src=\"https://github.com/sannecottaar/ESC_1B_ESB/blob/main/1D%20Earth/sphere.png?raw=1\" style=\"width: 400px;\">\n",
        "    \n",
        "    \n",
        "The Moment of Intertia for an infinitesimal disc in this sphere is:\n",
        "$ dI = 1/2r^2dm$\n",
        "\n",
        "Where $dm = \\pi\\rho r^2dx$\n",
        "\n",
        "So, $dI= 1/2\\pi \\rho r^4 dx$\n",
        "\n",
        "In the sphere above, $x$, $r$, $R$ form a triangle, so from Pythagoras gives us a relation between $x$ and $r$: $r^2 = R^2-x^2$\n",
        "\n",
        "Now we can substitute this and integrate over the sphere from -R to R:\n",
        "\n",
        "$I = 1/2 \\pi \\rho \\int_{-R}^{R}(R^2-x^2)^2 dx = 8/15 \\pi \\rho R^5$\n",
        "\n",
        "Now for the mantle: $I_m = 8/15 \\pi (\\rho_m R^5 - \\rho_m r_c^5)$\n",
        "\n",
        "And for the core: $ I_c = 8/15 \\pi \\rho_c r_c^5$\n",
        "\n",
        "So combined: $I  = \\frac{8}{15} \\pi [(R^5\\rho_{m} + r_{c}^5 (\\rho_{c}-\\rho_{m})]$"
      ]
    },
    {
      "cell_type": "code",
      "metadata": {
        "id": "Ij9w-ztdYVhf"
      },
      "source": [
        ""
      ],
      "execution_count": null,
      "outputs": []
    }
  ]
}