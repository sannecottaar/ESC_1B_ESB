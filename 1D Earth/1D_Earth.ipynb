{
  "cells": [
    {
      "metadata": {},
      "cell_type": "markdown",
      "source": "\n# ESB Practical: the 1D Earth"
    },
    {
      "metadata": {
        "trusted": true
      },
      "cell_type": "code",
      "source": "## Importing libraries\n%matplotlib notebook\nimport numpy as np                        # library to deal with arrays\nimport matplotlib.pyplot as plt           # library for general plotting\nimport scipy.integrate as integrate",
      "execution_count": null,
      "outputs": []
    },
    {
      "metadata": {},
      "cell_type": "markdown",
      "source": "### 1. Mass and Moment of Inertia\n\nIn this first exercise we are going to fit the mass and moment of inertia of the Earth for a two-layer case (i.e. with one value for the density of the core and one for the density of the mantle). In the code below a start is given for two functions that calculate the mass and moment of inertia for this simple Earth, but the equations themselves still need to be implemented.  \n\nThe mass is given by:\n$ M = \\frac{4}{3} \\pi [R^3 \\rho_{m} +  r_{c}^3 (\\rho_{c}-\\rho_{m})] $\n\nThe Moment of Intertia is given by: \n$I  = \\frac{8}{15} \\pi [(R^5\\rho_{m} + r_{c}^5 (\\rho_{c}-\\rho_{m})] $\n\nWhere $R$ is the radius of the Earth (6371 km), $r_c$ is the radius of the core (3481 km), $\\rho_c$ is the density of the core, and $\\rho_m$ is the density of the mantle. \n\n*a.* Show the above equation for the mass results from $ M = \\int \\rho dV $ when assuming a two-layered sphere with constant densities. \n\n*Bonus take-home question: Derive the equation for the Moment of Inertia of a two-layered sphere.*\n\n*b.* Add the equations to the two functions started below. If you have done this correctly the error messages will dissapear. \n\nNote:\n- The numpy library offers the value of pi - use np.pi (remember to import the libraries at the top!)\n- To take a power of a number in python you use **, e.g. $x^y = x**y$\n- Python cares about indentation. The equation within the function needs to be indented. \n\n\n"
    },
    {
      "metadata": {
        "trusted": true
      },
      "cell_type": "code",
      "source": "def mass_of_Earth(dens_mantle, dens_core, rad_core = 3481.e3, rad_earth =6371.e3):\n    \"\"\"\n    implement mass of Earth here, using the four variables \n    'dens_mantle, dens_core, rad_core, rad_earth'\n    \"\"\"\n\n    return mass\n\nassert(mass_of_Earth(5.5e3, 5.5e3)==5.957638042651645e+24 )\n\ndef MoI_of_Earth(dens_mantle, dens_core, rad_core = 3481.e3, rad_earth =6371.e3):\n    \"\"\"\n    implement moment of intertia of Earth here, using the four variables \n    'dens_mantle, dens_core, rad_core, rad_earth'\n    \"\"\"\n\n    return MoI\n\nassert(MoI_of_Earth(5.5e3, 5.5e3)==9.672735574366918e+37 )",
      "execution_count": null,
      "outputs": []
    },
    {
      "metadata": {},
      "cell_type": "markdown",
      "source": "Now we can use these functions to fit the mass and moment of inertia. We are taking the radii of the Earth (6371 km) and the core (3481 km) as a given.  We divide the moment of intertia by the mass and the radius squared to obtain the dimensionless moment of inertia factor. \n\n*c.* Change the density values for the core and the mantle below to fit the mass and moment of intertia at the same time. What values do you find?\n\n*d.* Show that the mean density of a two-layered planet is given by: \n\n$ \\bar{\\rho} = \\left(\\frac{r_c}{R}\\right)^3 (\\rho_c - \\rho_m) + \\rho_m $\n\nAnd compute the mean value for the two-layered Earth constrained in *c.*\n"
    },
    {
      "metadata": {
        "trusted": true
      },
      "cell_type": "code",
      "source": "observed_mass = 5.97e24 #kg\nobserved_MoI = 0.33 #factor MoI/mass\n\ndensity_mantle = 5.5e3 #kg/m^3\ndensity_core = 5.5e3 #kg/m^3\n\ncomputed_mass = mass_of_Earth(density_mantle, density_core)\n\ncomputed_MoI = MoI_of_Earth(density_mantle, density_core)/(computed_mass*6371.e3**2)\n\nprint('Observed mass = ', observed_mass,'kg. Computed mass = ', np.round(computed_mass,2), 'kg.')\nprint('Observed MoI factor = ', observed_MoI,'. Computed MoI factor = ', np.round(computed_MoI,2), '.')",
      "execution_count": null,
      "outputs": []
    },
    {
      "metadata": {},
      "cell_type": "markdown",
      "source": "### 2. Pressure and gravity inside the Earth\n\nNext we are going to compute the pressure and gravity profiles in the Earth. Lets first read in the full 1D density profile and plot this. You do not have to change anything in this script. \n\n*a.* Compare the densities shown here with the average values found for the mantle and core in the last exercise.\n\n*b.* Zoom in on the most shallow layer in this model. How thick is it and what density does it have? What do you think it represents? \n\n*c.* What parts of this model do you think are constrained by the Adams-Williamson equation?\n\n*d.* Identify three phase transitions that occur. Compute the density jumps at these transitions in \\%.\n\n"
    },
    {
      "metadata": {
        "trusted": true
      },
      "cell_type": "code",
      "source": "# read in density\nrad = [] # initialise list for radius\ndens = [] # initialise list for density\n# open file\nwith open('PREMQL6.webarchive', 'r') as file:\n    #loop through lines in file\n    for line in file.readlines():\n        # split values in line\n        val = line.split()\n        # add first value to radius list as a float\n        rad.append(float(val[0]))\n        # add second value to density list as a float\n        dens.append(float(val[1]))\n# change lists into arrays\nrad = np.array(rad)\ndens = np.array(dens)\n\n\n# plot arrays\nplt.plot(rad/1.e3,dens)\nplt.xlabel('radius ($km$)')\nplt.ylabel('density ($kg/m^3$)')",
      "execution_count": null,
      "outputs": []
    },
    {
      "metadata": {},
      "cell_type": "markdown",
      "source": "To obtain the pressure inside the Earth, we first need to obtain the gravitational accelaration as a function of depth. We know the gravity at the centre of the Earth is zero, so we start integrating from there. We also know the gravity at the surface is 9.81, which our integration should end up at!\n\n$g(r) = \\frac{GM(r)}{r^2} = \\frac{G\\int_0^r\\rho(r)dV}{r^2} = \\frac{4\\pi G\\int_0^r\\rho(r)r^2 dr}{r^2}$\n\nWhere \n- $G = 6.67408\\times 10^{-11}  m^3kg^{-1}s^{-2}$\n- $M(r)$ = the mass in the sphere up to radius $r$\n \n*e.* Confirm the units of this equation match that of acceleration. \n\n*f.* Implement the equation for the gravitational accelareration in the code below. To implement an integral follow:\n- $Y(x)= \\int_0^xydx$ becomes Y = integrate.cumtrapz(y,x,initial=0.)\n\n*g.* Why is the gravitational acceleration almost constant across the mantle (and even slightly increasing towards the core-mantle boundary)? \n"
    },
    {
      "metadata": {
        "trusted": true
      },
      "cell_type": "code",
      "source": "grav = 6.67408e-11 #m^3kg^-1s^-2\n\n\n#### Implement integration here\n\n# Assert the integration gives the correct value at the surface\nprint('g at the surface is ', np.round(g[-1],2), '$m/s^2$')\nassert(np.round(g[-1],2)==9.82)\n\n# If you divided g by r^2, there will be a division by zero at the centre. Python will return a 'nan' or 'not-a-number'\n# in this case. Here we overwrite the value here back to zero\ng[0]=0\n\n\n# Plot g as a function of radius\nplt.figure()   \nplt.plot(rad/1.e3,g)\nplt.xlabel('radius ($km$)')\nplt.ylabel('gravity ($m/s^2$)')\n",
      "execution_count": null,
      "outputs": []
    },
    {
      "metadata": {},
      "cell_type": "markdown",
      "source": "Now, to obtain the pressure inside the Earth, we now want to integrate the gravitational accelerations and densities. We know the pressure at the surfaces (assumed 0 in this case), and can integrate the following function:\n\\begin{equation}\nP(z) = \\int_0^z \\rho(z) g(z) dz\n\\end{equation}\n\n*h.* Confirm the equation above results in $Pa$. \n\n*i.* Implement the equation above in the code below, again using integrate.cumtrapz (the error message needs to dissapear). \n\n*j.* What is the pressure at the core-mantle boundary? How about the centre of the Earth?\n\n*k.* Why does the gradient of the pressure go to zero at the centre of the Earth?\n"
    },
    {
      "metadata": {
        "trusted": true
      },
      "cell_type": "code",
      "source": "# Let us first swap the arrays to be as a function of depth.\ndepth = 6371.e3-rad[::-1]\ndens_with_z = dens[::-1]\ng_with_z = g[::-1]\n\n#### Implement integration here\n     \nassert(np.round(np.max(P),3) == 364101176139.805)\n\nplt.figure()\nplt.plot(rad/1.e3,P[::-1])\nplt.xlabel('radius (km)')\nplt.ylabel('pressure (Pa)')",
      "execution_count": null,
      "outputs": []
    },
    {
      "metadata": {
        "trusted": true
      },
      "cell_type": "code",
      "source": "",
      "execution_count": null,
      "outputs": []
    }
  ],
  "metadata": {
    "kernelspec": {
      "name": "python3",
      "display_name": "Python 3",
      "language": "python"
    },
    "language_info": {
      "mimetype": "text/x-python",
      "nbconvert_exporter": "python",
      "name": "python",
      "pygments_lexer": "ipython3",
      "version": "3.5.4",
      "file_extension": ".py",
      "codemirror_mode": {
        "version": 3,
        "name": "ipython"
      }
    }
  },
  "nbformat": 4,
  "nbformat_minor": 2
}