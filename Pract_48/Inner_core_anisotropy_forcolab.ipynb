{
  "cells": [
    {
      "cell_type": "markdown",
      "metadata": {
        "id": "view-in-github",
        "colab_type": "text"
      },
      "source": [
        "<a href=\"https://colab.research.google.com/github/sannecottaar/ESC_1B_ESB/blob/main/Pract_48/Inner_core_anisotropy_forcolab.ipynb\" target=\"_parent\"><img src=\"https://colab.research.google.com/assets/colab-badge.svg\" alt=\"Open In Colab\"/></a>"
      ]
    },
    {
      "cell_type": "markdown",
      "metadata": {
        "id": "ccqhl9lRT64-"
      },
      "source": [
        "# Inner core anisotropy\n",
        "\n",
        "In this practical, you will make body wave measurements of inner core anisotropy and determine regional variations in the strength of the anisotropic structure.\n",
        "\n",
        "The practical is based on:\n",
        "Irving, J.C.E. and Deuss, A., 2011. Hemispherical structure in inner core velocity anisotropy. Journal of Geophysical Research: Solid Earth, 116(B4)\n",
        "and a paper practical written by these authors.\n",
        "\n",
        "We start with importing the required python libraries. This only needs to happen once"
      ]
    },
    {
      "cell_type": "code",
      "source": [
        "# install libraries\n",
        "!pip install geographiclib # for geodesic routines\n",
        "!pip install cartopy # for map making\n",
        "!pip install obspy # for handling seismic data"
      ],
      "metadata": {
        "id": "ZszmnP6qT80c"
      },
      "execution_count": null,
      "outputs": []
    },
    {
      "cell_type": "code",
      "execution_count": null,
      "metadata": {
        "id": "UjtgPnBAT65A"
      },
      "outputs": [],
      "source": [
        "# load libraries\n",
        "from platform import python_version\n",
        "print(python_version())\n",
        "import numpy as np # General array seismology routines\n",
        "np.float_ = np.float64\n",
        "import obspy # Python toolkit for common routines in seismology\n",
        "from obspy.clients.fdsn import Client\n",
        "client = Client(\"IRIS\") # Allows data download from IRIS\n",
        "from obspy import UTCDateTime # Converts strings of dates\n",
        "from obspy.taup import TauPyModel # Predicts travel times\n",
        "import matplotlib.pyplot as plt # Plotting routines\n",
        "import cartopy\n",
        "import cartopy.crs as ccrs # To plot maps\n",
        "import math # For some cos and sin functions\n"
      ]
    },
    {
      "cell_type": "markdown",
      "metadata": {
        "id": "szT88b0WT65B"
      },
      "source": [
        "## I. PKIKP-PKP differential times\n",
        "\n",
        "In this practial, you will make body wave measurements of inner core anisotropy and determine regional variations in the strength of the anisotropic structure.  You will compare travel times of phases that travel through the inner core, to those which only travel through the outer core.  Of the three PKP branches (see Figure 3), PKIKP travels through the inner core (and is also known as PKPdf). PKPab and PKPbc travel through the outer core only.\n",
        "\n",
        "\n",
        "![alt text](PKPphases.png \"Phases sampling the inner and outer core\")\n",
        "###### Figure 1 (a) Travel time curves for inner core compressional wave PKIKP (or PKPdf), its reference phases PKPbc, PKPab and PKiKP, and inner core shear wave PKJKP. (b) Corresponding ray paths through the Earth, for an epicentral distance of 150 degrees). From Deuss (2014)\n",
        "\n",
        "\n",
        "1.   Which outer core phase, PKPab or PKPbc, is a more suitable reference phase to study inner core structure? Why do we use a reference phase? Note that sometimes PKiKP is used as well, but as this is a reflected wave, it is very weak and challenging to use.\n"
      ]
    },
    {
      "cell_type": "markdown",
      "metadata": {
        "id": "JKjtm8KpT65C"
      },
      "source": [
        "## II. Load data\n",
        "Firstly, we load our data sets. This only needs to happen once."
      ]
    },
    {
      "cell_type": "code",
      "execution_count": null,
      "metadata": {
        "id": "KxRvjQQAT65C"
      },
      "outputs": [],
      "source": [
        "# load data from github\n",
        "!wget https://github.com/sannecottaar/ESC_1B_ESB/raw/refs/heads/main/Pract_48/observed_seismograms.mseed\n",
        "!wget https://github.com/sannecottaar/ESC_1B_ESB/raw/refs/heads/main/Pract_48/synthetic_seismograms.mseed\n",
        "!wget https://github.com/sannecottaar/ESC_1B_ESB/raw/refs/heads/main/Pract_48/events.xml\n",
        "!wget https://github.com/sannecottaar/ESC_1B_ESB/raw/refs/heads/main/Pract_48/stations.xml\n",
        "# load observed seismograms\n",
        "observed_seismograms = obspy.read(\"observed_seismograms.mseed\", format=\"MSEED\")\n",
        "# load synthetic reference seismograms\n",
        "synthetic_seismograms = obspy.read(\"synthetic_seismograms.mseed\", format=\"MSEED\")\n",
        "# load earthquake event information\n",
        "earthquake_catalogue = obspy.core.event.read_events(\"events.xml\", format=\"QUAKEML\")\n",
        "# load station information\n",
        "station_inventory = obspy.core.inventory.inventory.read_inventory(\"stations.xml\", format=\"STATIONXML\")[0]\n",
        "\n",
        "print('loaded')"
      ]
    },
    {
      "cell_type": "markdown",
      "metadata": {
        "id": "Zd75Sb5lT65C"
      },
      "source": [
        "Next, we select one geometry to look at. Later we will vary index to look at other geometries."
      ]
    },
    {
      "cell_type": "code",
      "execution_count": null,
      "metadata": {
        "id": "2XUKSSMwT65C"
      },
      "outputs": [],
      "source": [
        "# 10 source-station pairs are provided. Set index between 0-9 to access each geometry.\n",
        "index=0\n",
        "\n",
        "#select geometry\n",
        "seis=observed_seismograms[index].copy()\n",
        "syn=synthetic_seismograms[index].copy()\n",
        "event = earthquake_catalogue[index].copy()\n",
        "station = station_inventory[index].copy()\n",
        "\n",
        "# Get distance, azimuth and backazimuth from event and station locations\n",
        "distm, azimuth, backazimuth =  obspy.geodetics.base.gps2dist_azimuth(event.origins[0]['latitude'],\n",
        "                                                        event.origins[0]['longitude'],\n",
        "                                                          station.latitude,\n",
        "                                                          station.longitude)\n",
        "# Convert m to epicentral degrees\n",
        "distdg = distm/(6371.e3*np.pi/180.)\n",
        "\n",
        "# Plot waveform\n",
        "seis.plot(linewidth=0.75)\n",
        "\n",
        "print('seismogram selected')"
      ]
    },
    {
      "cell_type": "markdown",
      "metadata": {
        "id": "iRmDqZDCT65D"
      },
      "source": [
        "## III. Geometry of observation in  the inner core\n",
        "\n",
        "We want to assess the travel time observations as a function of the angle between the PKIKP path in the inner core and the Earth's rotation axis, which we call $\\zeta$.\n",
        "We can estimate $\\zeta$ with\n",
        "\n",
        "$$cos(\\zeta) = \\frac{cos(\\theta_o)-cos(\\theta_i)}{\\sqrt{2-2cos(\\theta_o)cos(\\theta_i)-2sin(\\theta_o)sin(\\theta_i)cos(\\lambda_o-\\lambda_i)}}$$\n",
        "\n",
        "where\n",
        " $\\theta_i$ and $\\theta_o$ are the colatitudes and  $\\lambda_i$ and $\\lambda_o$ the longitudes  of the entry and exit points of the ray through the inner core.\n",
        "\n",
        "If $\\zeta$ is below 45$^\\circ$ it can be categorised as a 'polar' path, and above as an 'equatorial' path.\n",
        "\n",
        "The following script plots the relevant phases for this particular event-station geometry and computes $\\zeta$. Note that the seismic phase naming in ObsPy does not differentiate between PKPbc and PKPab.\n",
        "\n",
        "\n",
        "\n",
        "2. Would you characterise the path for PKIKP as a 'polar' or an 'equatorial' path?"
      ]
    },
    {
      "cell_type": "code",
      "execution_count": null,
      "metadata": {
        "scrolled": true,
        "id": "1Td8QMHQT65D"
      },
      "outputs": [],
      "source": [
        "print('Ray paths for PKIKP/PKPdf, PKPab, and PKPbc')\n",
        "model = TauPyModel(model='iasp91')\n",
        "# Get event geometry\n",
        "paths_simple = model.get_ray_paths(source_depth_in_km=event.origins[0]['depth']/1.e3,distance_in_degree=distdg,phase_list=['PKIKP', 'PKP'])\n",
        "\n",
        "# plot paths\n",
        "fig, ax = plt.subplots(subplot_kw={'projection': 'polar'})\n",
        "paths_simple.plot_rays(plot_type='spherical', phase_list=['PKIKP', 'PKP'],\n",
        "                   legend=True, ax=ax)\n",
        "\n",
        "\n",
        "# Rotate event to its latitude (obspy automatically plots it at the North Pole)\n",
        "if event.origins[0]['longitude']>0:\n",
        "    offset = event.origins[0]['latitude']\n",
        "    if azimuth> 90. and azimuth<270.:\n",
        "         ax.set_theta_direction(-1)\n",
        "    else:\n",
        "         ax.set_theta_direction(+1)\n",
        "else:\n",
        "    offset = 180-event.origins[0]['latitude']\n",
        "    if azimuth> 90. and azimuth<270.:\n",
        "         ax.set_theta_direction(+1)\n",
        "    else:\n",
        "         ax.set_theta_direction(-1)\n",
        "\n",
        "\n",
        "ax.set_theta_offset(np.deg2rad(np.round(offset)))\n",
        "\n",
        "# Obtaining the ray path with geographic coordinates\n",
        "paths_geo = model.get_pierce_points_geo(event.origins[0]['depth']/1.e3 ,\n",
        "                            event.origins[0]['latitude'],\n",
        "                            event.origins[0]['longitude'],\n",
        "                            station.latitude,\n",
        "                            station.longitude,\n",
        "                            phase_list=('PKIKP', ),\n",
        "                            resample=False)\n",
        "\n",
        "# Finding the core entry and exit point\n",
        "lats =[]\n",
        "lons=[]\n",
        "for i in range(len(paths_geo[0].pierce)):\n",
        "        lats.append(paths_geo[0].pierce[i][4])\n",
        "        lons.append(paths_geo[0].pierce[i][5])\n",
        "        # finding core entry point\n",
        "        if paths_geo[0].pierce[i][3]==5153.9 and paths_geo[0].pierce[i+1][3]>5153.9:\n",
        "            lat_entry = paths_geo[0].pierce[i][4]\n",
        "            lon_entry = paths_geo[0].pierce[i][5]\n",
        "            lat_turn = paths_geo[0].pierce[i+1][4]\n",
        "            lon_turn = paths_geo[0].pierce[i+1][5]\n",
        "        # finding core exit point\n",
        "        if paths_geo[0].pierce[i][3]==5153.9 and paths_geo[0].pierce[i+1][3]<5153.9:\n",
        "            lat_exit = paths_geo[0].pierce[i][4]\n",
        "            lon_exit = paths_geo[0].pierce[i][5]\n",
        "\n",
        "# Defining colatitudes (angle from North) in radians\n",
        "colat_entry_rad = (90-lat_entry)*np.pi/180. # theta_i\n",
        "colat_exit_rad = (90-lat_exit)*np.pi/180. # theta_o\n",
        "# Converting to radians\n",
        "lon_entry_rad = lon_entry*np.pi/180. # lambda_i\n",
        "lon_exit_rad = lon_exit*np.pi/180.  #lambda_o\n",
        "\n",
        "\n",
        "#Computing zeta\n",
        "coszeta = (math.cos(colat_exit_rad)-math.cos(colat_entry_rad))/ \\\n",
        "        (math.sqrt(2-2*math.cos(colat_exit_rad)*math.cos(colat_entry_rad) \\\n",
        "        -2*math.sin(colat_exit_rad)*math.sin(colat_entry_rad)*math.cos(lon_exit_rad-lon_entry_rad)))\n",
        "zeta= math.acos(coszeta)*180./np.pi\n",
        "\n",
        "# define zeta as angle between 0-90 from rotation axis\n",
        "if zeta>90.:\n",
        "    zeta=180.-zeta\n",
        "\n",
        "\n",
        "print('zeta = ', zeta)\n"
      ]
    },
    {
      "cell_type": "markdown",
      "metadata": {
        "id": "cN9BLYJDT65E"
      },
      "source": [
        "## IV. Determine inner core hemisphere\n",
        "\n",
        "For the inner core, we observe structural variations between two hemispheres. The boundaries between these lie at approximately 0$^\\circ$ and 155$^\\circ$W and are therefore referred to as 'eastern' and 'western' hemispheres.\n",
        "\n",
        "3. Use the map below to determine which hemisphere the deepest point of the ray falls in."
      ]
    },
    {
      "cell_type": "code",
      "execution_count": null,
      "metadata": {
        "id": "Jmp1P7s_T65E"
      },
      "outputs": [],
      "source": [
        "# initialise map\n",
        "fig = plt.figure(figsize=(8, 3))\n",
        "ax = fig.add_subplot(1, 1, 1, projection=ccrs.Robinson())\n",
        "ax.set_global()\n",
        "ax.coastlines()\n",
        "\n",
        "# plot great cir|cle path\n",
        "for i in range(len(lats)-1):\n",
        "    ax.plot([lons[i],lons[i+1]], [lats[i],lats[i+1]],'k', transform=ccrs.Geodetic())\n",
        "ax.plot([lon_entry, lon_exit], [lat_entry, lat_exit],'y', linewidth=2, transform=ccrs.Geodetic())\n",
        "# plot boundaries between 'eastern' and 'western' hemisphere\n",
        "ax.plot([-155,-155], [-90,90],'r', transform=ccrs.Geodetic())\n",
        "ax.plot([0,0], [-90,90],'r', transform=ccrs.Geodetic())\n",
        "ax.text(-103,50,'W', color='r',fontsize=20,transform=ccrs.Geodetic())\n",
        "ax.text(103,50,'E', color='r',fontsize=20,transform=ccrs.Geodetic())\n",
        "\n",
        "# plot entry point to inner core\n",
        "ax.plot(lon_entry, lat_entry, color='b',marker='o',linewidth=0,  markersize=10, transform=ccrs.Geodetic(), label='entry point')\n",
        "# plot exit point to inner core\n",
        "ax.plot(lon_exit, lat_exit, color='m',marker='o', linewidth=0,  markersize=10, transform=ccrs.Geodetic(), label='exit point')\n",
        "# plot turning point\n",
        "ax.plot(lon_turn, lat_turn, linewidth=0, color='g',marker='o', markersize=10, transform=ccrs.Geodetic(), label='turn point')\n",
        "# plot earthquake location\n",
        "ax.plot(event.origins[0]['longitude'], event.origins[0]['latitude'], linewidth=0, marker='*', markersize=20, transform=ccrs.Geodetic(), label='event')\n",
        "# plot station location\n",
        "ax.plot(station.longitude, station.latitude, linewidth=0, marker='^', markersize=10, transform=ccrs.Geodetic(), label = 'station')\n",
        "\n",
        "plt.legend(loc=(1.04,0))\n",
        "\n"
      ]
    },
    {
      "cell_type": "markdown",
      "metadata": {
        "id": "3HMprv1pT65F"
      },
      "source": [
        "## V. Differential travel time\n",
        "\n",
        "We will start by observing the differential arrival time between the PKIKP and PKPbc phase.\n",
        "\n",
        "\n",
        "While travel times are often measured at the first upswing (or downswing) of a waveform, this is not often easy to identify for small amplitude phases. It is best to identify the maximum amplitudes of the waves in the synthetics, and then choose the same part of the waveform in the observed data.\n",
        "\n",
        "The following bit of code plots the observed and synthetic seismograms around the expected arrivals (highlighted by the red lines).\n",
        "The data is filtered between .33 and 1.0 Hz. Note that the synthetics are computed up to 1.0 Hz, so they don't contain any higher frequencies.\n",
        "\n",
        "\n",
        "4. Test different frequency bands, i.e. 0.2 -1.0 , 0.1-1.0, 0.05-1.0Hz. What happens to the relative noise levels in the observations as lower frequencies are included? How about the ability to distinguish separate arrivals in the synthetics?\n",
        "\n",
        "5. Using the original frequency band, measure travel times of PKPbc and PKPdf in the real data and the synthetic data. Choose  the same identifiable peak in the observed and synthetic waveforms for each phase.\n",
        "\n",
        "6. Use the values to calculate\n",
        "$$ \\Delta T_{syn} = Tbc_{syn} -Tdf_{syn}$$\n",
        "and\n",
        "$$ \\Delta T_{obs} = Tbc_{obs} -Tdf_{obs}$$\n",
        "\n",
        "7. Now calculate the differential time\n",
        "$$ \\Delta T = \\Delta T_{obs} - \\Delta T_{syn}$$\n",
        "\n",
        "8. What does a positive or negative value of $\\Delta T$ imply in terms of relative velocity in the inner core?\n",
        "\n"
      ]
    },
    {
      "cell_type": "code",
      "execution_count": null,
      "metadata": {
        "id": "W0AUyv6-T65F"
      },
      "outputs": [],
      "source": [
        "plt.clf()\n",
        "\n",
        "# Set frequencies\n",
        "freqmin = .33 #Hz\n",
        "freqmax = 1.  #Hz\n",
        "\n",
        "\n",
        "\n",
        "# Filter data\n",
        "seis_filt= seis.copy()\n",
        "syn_filt = syn.copy()\n",
        "\n",
        "seis_filt.filter(\"bandpass\", freqmin=freqmin, freqmax=freqmax, corners=2, zerophase=False)\n",
        "syn_filt.filter(\"bandpass\", freqmin=freqmin, freqmax=freqmax, corners=2, zerophase=False)\n",
        "\n",
        "# Get phase prediction\n",
        "ph = 'PKP'\n",
        "tPKP = model.get_travel_times(source_depth_in_km=event.origins[0]['depth']/1.e3,distance_in_degree=distdg,phase_list=[ph])\n",
        "tPKPbc = tPKP[0]\n",
        "tPKPab = tPKP[1]\n",
        "ph = 'PKIKP'\n",
        "tPKIKP = model.get_travel_times(source_depth_in_km=event.origins[0]['depth']/1.e3,distance_in_degree=distdg,phase_list=[ph])[0]\n",
        "\n",
        "# Set window and slice seismograms\n",
        "window_start=tPKPbc.time-25.\n",
        "window_end=tPKPbc.time+25.\n",
        "\n",
        "seis_cut = seis_filt.slice(seis_filt.stats.starttime+window_start,seis_filt.stats.starttime+window_end)\n",
        "norm_data = np.max(np.abs(seis_cut.data))\n",
        "\n",
        "syn_cut = syn_filt.slice(syn_filt.stats.starttime+window_start,syn_filt.stats.starttime+window_end)\n",
        "norm_syn = np.max(np.abs(syn_cut.data))\n",
        "\n",
        "\n",
        "# Plot seismograms\n",
        "fig = plt.figure(figsize=(6,4))\n",
        "plt.subplot(2,1,1)\n",
        "plt.plot(seis_filt.times(), seis_filt.data, 'k')\n",
        "plt.xlim(window_start,window_end)\n",
        "plt.ylim(-norm_data,norm_data*1.2)\n",
        "plt.plot([tPKPbc.time,tPKPbc.time], [-norm_data,norm_data], 'r')\n",
        "plt.text(tPKPbc.time, norm_data, 'PKPbc')\n",
        "plt.plot([tPKIKP.time,tPKIKP.time], [-norm_data,norm_data], 'r')\n",
        "plt.text(tPKIKP.time, norm_data, 'PKPdf')\n",
        "plt.title('station = '+ station.code)\n",
        "\n",
        "plt.subplot(2,1,2)\n",
        "plt.plot(syn_filt.times(), syn_filt.data, 'k')\n",
        "plt.xlim(window_start,window_end)\n",
        "y1,y2 = plt.gca().get_ylim()\n",
        "plt.ylim(-norm_syn,norm_syn*1.2)\n",
        "plt.plot([tPKPbc.time,tPKPbc.time], [-norm_syn,norm_syn], 'r')\n",
        "plt.text(tPKPbc.time, norm_syn, 'PKPbc')\n",
        "plt.plot([tPKIKP.time,tPKIKP.time], [-norm_syn,norm_syn], 'r')\n",
        "plt.text(tPKIKP.time, norm_syn, 'PKPdf')\n",
        "\n",
        "\n",
        "plt.gca().set_xlabel(\"Time after %s [s]\" % seis.stats.starttime.isoformat())\n",
        "plt.tight_layout()\n",
        "\n",
        "\n",
        "plt.show()\n"
      ]
    },
    {
      "cell_type": "markdown",
      "metadata": {
        "id": "WJaMBf0AT65G"
      },
      "source": [
        "## Repeat for several polar and equatorial paths\n",
        "\n",
        "9. Next determine the hemisphere (E/W), value of $\\zeta$ and the travel times for the other nine geometries recorded. You can record these as the table below, which is replicated in the code block  (replace the text in the coded table). Values for the first measurement are filled in for you to check or replace with your own values.  \n",
        "\n",
        "\n",
        "| index | Earthquake time | Station | Hemisphere (E/W) | $\\zeta$ value| $Tbc_{syn}$ | $Tdf_{syn}$  | $Tbc_{obs}$ | $Tdf_{obs}$ |\n",
        "| :- | :- | :-  | :-  | :-  | :- | :- | :-  | :-  |\n",
        "| 0 | 1996-08-31T20:47 | SYO | -- | -- |  -- |  -- | -- | -- |  \n",
        "| 1 | 1997-06-17T21:03 | SYO | -- | -- |  -- |  -- | -- | -- |  \n",
        "| 2 | 1997-10-05T18:04 | NRIL | -- | -- |  -- |  -- | -- | -- |  \n",
        "| 3 | 1997-12-11T07:56 | KMI | -- | -- |  -- |  -- | -- | -- |  \n",
        "| 4 | 1998-09-03T17:37 | HYB | -- | -- |  -- |  -- | -- | -- |  \n",
        "| 5 | 2002-03-09T12:27 | COLA | -- | -- |  -- |  -- | -- | -- |  \n",
        "| 6 | 2002-10-03T19:05 | LVC | -- | -- |  -- |  -- | -- | -- |  \n",
        "| 7 | 2002-11-12T01:46 | TLY | -- | -- |  -- |  -- | -- | -- |\n",
        "| 8 | 2004-10-08T15:28 | PMR | -- | -- |  -- |  -- | -- | -- |  \n",
        "| 9 | 2006-01-18T03:52 | SAML | -- | -- |  -- |  -- | -- | -- |  \n",
        "\n",
        "The script below will plot the differential time as a function of $\\zeta$, colouring the data by hemisphere. Note that the code will continue to give an error if not all values are filled in.\n",
        "\n",
        "10. What trends do you observe? What kind of inner core structure could explain these observations? What are potential hypothesis for the cause of this structure?\n",
        "\n",
        "11. Take the most extreme travel time variation between a polar and an equatorial path for a specific hemisphere. How much does the mean inner core velocity need to vary between these paths to explain these travel times variations? Use Figure 3 to estimate the ray path length of a PKPdf (PKIKP) phase (the radius of the inner core is 1220 km). Use a reference inner core velocity of 13 km/s. What is the percentage velocity change between polar and equatorial (i.e. the percentage of anisotropy)? What is the percentage for the other hemisphere?\n",
        "\n"
      ]
    },
    {
      "cell_type": "code",
      "execution_count": null,
      "metadata": {
        "id": "IEV3KVF-T65G"
      },
      "outputs": [],
      "source": [
        "# Formatting results in panda data frame\n",
        "import pandas as pd\n",
        "\n",
        "#define hemisphere categories\n",
        "[E,W]=[\"E\", \"W\"]\n",
        "# index, hemisphere, zeta, tbc_syn, tdf_syn, tbc_obs, tdf_obs\n",
        "data = [[0, E, 28.5, 1196.2, 1187.3, 1199.2, 1189.7 ],\n",
        " [1, E/W, zeta, tbc_syn, tdf_syn, tbc_obs, tdf_obs],\n",
        " [2, E/W, zeta, tbc_syn, tdf_syn, tbc_obs, tdf_obs] ,\n",
        " [3, E/W, zeta, tbc_syn, tdf_syn, tbc_obs, tdf_obs] ,\n",
        " [4, E/W, zeta, tbc_syn, tdf_syn, tbc_obs, tdf_obs],\n",
        " [5, E/W, zeta, tbc_syn, tdf_syn, tbc_obs, tdf_obs],\n",
        " [6, E/W, zeta, tbc_syn, tdf_syn, tbc_obs, tdf_obs],\n",
        " [7, E/W, zeta, tbc_syn, tdf_syn, tbc_obs, tdf_obs],\n",
        " [8, E/W, zeta, tbc_syn, tdf_syn, tbc_obs, tdf_obs],\n",
        " [9, E/W, zeta, tbc_syn, tdf_syn, tbc_obs, tdf_obs]]\n",
        "\n",
        "\n",
        "# create a data frame used in Pandas (a python library for data analyses)\n",
        "df = pd.DataFrame (data)\n",
        "df.columns = ['index','hemisphere','zeta','tbc_syn','tdf_syn','tbc_obs','tdf_obs']\n",
        "df[\"hemisphere\"] = df[\"hemisphere\"].astype(\"category\")\n",
        "\n",
        "# compute differential times\n",
        "df['deltaT_syn']=df['tbc_syn']-df['tdf_syn']\n",
        "df['deltaT_obs']=df['tbc_obs']-df['tdf_obs']\n",
        "df['deltaT']=df['deltaT_obs']-df['deltaT_syn']\n",
        "print(df)\n",
        "\n",
        "# plot coloured by hemisphere\n",
        "df.plot.scatter(x=\"zeta\", y=\"deltaT\", c=\"hemisphere\", cmap=\"viridis\", s=50);\n",
        "df.to_csv('answers.txt')"
      ]
    }
  ],
  "metadata": {
    "kernelspec": {
      "display_name": "Python 3 (ipykernel)",
      "language": "python",
      "name": "python3"
    },
    "language_info": {
      "codemirror_mode": {
        "name": "ipython",
        "version": 3
      },
      "file_extension": ".py",
      "mimetype": "text/x-python",
      "name": "python",
      "nbconvert_exporter": "python",
      "pygments_lexer": "ipython3",
      "version": "3.8.12"
    },
    "colab": {
      "provenance": [],
      "include_colab_link": true
    }
  },
  "nbformat": 4,
  "nbformat_minor": 0
}